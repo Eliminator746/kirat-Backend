{
  "nbformat": 4,
  "nbformat_minor": 0,
  "metadata": {
    "colab": {
      "provenance": [],
      "toc_visible": true,
      "authorship_tag": "ABX9TyN9UxwwnPySSnuG2RDH+iR0",
      "include_colab_link": true
    },
    "kernelspec": {
      "name": "python3",
      "display_name": "Python 3"
    },
    "language_info": {
      "name": "python"
    }
  },
  "cells": [
    {
      "cell_type": "markdown",
      "metadata": {
        "id": "view-in-github",
        "colab_type": "text"
      },
      "source": [
        "<a href=\"https://colab.research.google.com/github/Eliminator746/kirat-Backend/blob/main/numpy2025.ipynb\" target=\"_parent\"><img src=\"https://colab.research.google.com/assets/colab-badge.svg\" alt=\"Open In Colab\"/></a>"
      ]
    },
    {
      "cell_type": "markdown",
      "source": [
        "# NUMPY - Chai aur Code"
      ],
      "metadata": {
        "id": "KTm8GQ2bujyb"
      }
    },
    {
      "cell_type": "code",
      "source": [
        "import numpy as np"
      ],
      "metadata": {
        "id": "dfguBXq3rXpD"
      },
      "execution_count": 2,
      "outputs": []
    },
    {
      "cell_type": "markdown",
      "source": [
        "### **Creating Array from List**"
      ],
      "metadata": {
        "id": "_HsMEiPWtomK"
      }
    },
    {
      "cell_type": "code",
      "source": [
        "arr_1d= np.array([1,2,3,4,5])\n",
        "print('1D Array : ', arr_1d)\n",
        "\n",
        "arr_2d= np.array([[1,2,3],[4,5,6]])\n",
        "print('2D Array : ', arr_2d)"
      ],
      "metadata": {
        "colab": {
          "base_uri": "https://localhost:8080/"
        },
        "collapsed": true,
        "id": "p56ozUoUtuUZ",
        "outputId": "e291cb28-511d-46a0-d35b-937d692e5bfb"
      },
      "execution_count": null,
      "outputs": [
        {
          "output_type": "stream",
          "name": "stdout",
          "text": [
            "1D Array :  [1 2 3 4 5]\n",
            "2D Array :  [[1 2 3]\n",
            " [4 5 6]]\n"
          ]
        }
      ]
    },
    {
      "cell_type": "markdown",
      "source": [
        "## **List Vs Numpy Array**"
      ],
      "metadata": {
        "id": "DtIVzFmOwFEq"
      }
    },
    {
      "cell_type": "code",
      "source": [
        "py_list=[1,2,3]\n",
        "print(\"Python list Multiplication : \", py_list*2)\n",
        "\n",
        "np_array=np.array([1,2,3])\n",
        "print(\"Numpy Array Multiplication : \", np_array*2)"
      ],
      "metadata": {
        "colab": {
          "base_uri": "https://localhost:8080/"
        },
        "id": "EwLpfOvuwK-N",
        "outputId": "024819d0-a42f-43ad-9333-9ac3ed0da2c7"
      },
      "execution_count": null,
      "outputs": [
        {
          "output_type": "stream",
          "name": "stdout",
          "text": [
            "Python list Multiplication :  [1, 2, 3, 1, 2, 3]\n",
            "Numpy Array Multiplication :  [2 4 6]\n"
          ]
        }
      ]
    },
    {
      "cell_type": "markdown",
      "source": [
        "**Numpy array is faster than Python List**"
      ],
      "metadata": {
        "id": "oCHQL4LTwoTS"
      }
    },
    {
      "cell_type": "code",
      "source": [
        "import time\n",
        "start= time.time()\n",
        "# py_list = [i*2 for i in range(10000000)]\n",
        "py_list= list(range(10000000)) * 2\n",
        "print('List opertaion time: ', time.time()- start)\n",
        "\n",
        "start= time.time()\n",
        "# np_array= [i*2 for i in range(10000000)]\n",
        "np_array= np.arange(10000000)*2\n",
        "print('Numpy Array opertaion time: ', time.time()- start)"
      ],
      "metadata": {
        "colab": {
          "base_uri": "https://localhost:8080/"
        },
        "id": "liCuW79-ws8N",
        "outputId": "d54f4390-78df-40d3-d760-78aaf7b35903"
      },
      "execution_count": null,
      "outputs": [
        {
          "output_type": "stream",
          "name": "stdout",
          "text": [
            "List opertaion time:  1.3932561874389648\n",
            "Numpy Array opertaion time:  0.018100738525390625\n"
          ]
        }
      ]
    },
    {
      "cell_type": "markdown",
      "source": [
        "## **Creating array from scratch**"
      ],
      "metadata": {
        "id": "M_ko3ltWSQOU"
      }
    },
    {
      "cell_type": "code",
      "source": [
        "zeros = np.zeros((3, 4))\n",
        "print(\"zeros array: \\n\", zeros)\n",
        "\n",
        "ones = np.ones((2))\n",
        "print(\"one array: \\n\", ones)\n",
        "\n",
        "full = np.full((2, 2), 7)\n",
        "print(\"full array: \\n\", full)\n",
        "\n",
        "random = np.random.random((2, 3))\n",
        "print(\"random array: \\n\", random)\n",
        "\n",
        "# 1st random is class, 2nd random is method. Random runs b/w 0-1\n",
        "\n",
        "sequence = np.arange(0, 11, 2)\n",
        "print(\"sequnce array: \\n\", sequence)"
      ],
      "metadata": {
        "colab": {
          "base_uri": "https://localhost:8080/"
        },
        "id": "rqkAIoqoRx6h",
        "outputId": "eed1d6fd-8408-4667-d674-06f7172e7a92"
      },
      "execution_count": null,
      "outputs": [
        {
          "output_type": "stream",
          "name": "stdout",
          "text": [
            "zeros array: \n",
            " [[0. 0. 0. 0.]\n",
            " [0. 0. 0. 0.]\n",
            " [0. 0. 0. 0.]]\n",
            "one array: \n",
            " [1. 1.]\n",
            "full array: \n",
            " [[7 7]\n",
            " [7 7]]\n",
            "random array: \n",
            " [[0.74346848 0.12988906 0.24355836]\n",
            " [0.20493201 0.67652999 0.88765161]]\n",
            "sequnce array: \n",
            " [ 0  2  4  6  8 10]\n"
          ]
        }
      ]
    },
    {
      "cell_type": "code",
      "source": [
        "vector = np.array([1,2,3])\n",
        "matrices = np.array([[1,2,3],[4,5,6]])\n",
        "tensor= np.array([ [[1,2],[3,4]], [[5,6],[7,8]] ])\n",
        "\n",
        "print(\"Vector: \", vector)\n",
        "print(\"Matrix: \", matrices)\n",
        "print(\"Tensor: \", tensor)"
      ],
      "metadata": {
        "colab": {
          "base_uri": "https://localhost:8080/"
        },
        "id": "baG51h97uqhD",
        "outputId": "ddc3a1f8-5eb8-449b-d45c-75137bbf15b9"
      },
      "execution_count": null,
      "outputs": [
        {
          "output_type": "stream",
          "name": "stdout",
          "text": [
            "Vector:  [1 2 3]\n",
            "Matrix:  [[1 2 3]\n",
            " [4 5 6]]\n",
            "Tensor:  [[[1 2]\n",
            "  [3 4]]\n",
            "\n",
            " [[5 6]\n",
            "  [7 8]]]\n"
          ]
        }
      ]
    },
    {
      "cell_type": "code",
      "source": [
        "arr = np.array([[1, 2, 3],\n",
        "                [4, 5, 6]])\n",
        "print(\"Shape \", arr.shape)     #(2,3)\n",
        "print(\"Dimension \", arr.ndim)  #2 : horizontal + vertical i.e row + col\n",
        "print(\"Size \", arr.size)       #6\n",
        "print(\"DType \", arr.dtype)     #int64"
      ],
      "metadata": {
        "colab": {
          "base_uri": "https://localhost:8080/"
        },
        "id": "94dzlh-OV_HP",
        "outputId": "af85e652-097b-4463-cc4d-736e4d98815d"
      },
      "execution_count": null,
      "outputs": [
        {
          "output_type": "stream",
          "name": "stdout",
          "text": [
            "Shape  (2, 3)\n",
            "Dimension  2\n",
            "Size  6\n",
            "DType  int64\n"
          ]
        }
      ]
    },
    {
      "cell_type": "markdown",
      "source": [
        "## **Array Reshaping**"
      ],
      "metadata": {
        "id": "veR_e9Jesuqk"
      }
    },
    {
      "cell_type": "code",
      "source": [
        "arr = np.arange(12)\n",
        "print(\"Original array \", arr)\n",
        "\n",
        "reshaped = arr.reshape((3, 4))\n",
        "print(\"\\n Reshaped array \", reshaped)\n",
        "\n",
        "flattened = reshaped.flatten()\n",
        "print(\"\\n Flattened array \", flattened)\n",
        "\n",
        "# ravel (returns view, instead of copy)\n",
        "raveled = reshaped.ravel()\n",
        "print(\"\\n raveled array \", raveled)\n",
        "\n",
        "# Transpose\n",
        "transpose = reshaped.T\n",
        "print(\"\\n Transposed array \", transpose)"
      ],
      "metadata": {
        "colab": {
          "base_uri": "https://localhost:8080/"
        },
        "id": "F7aRXUmaspOu",
        "outputId": "aa58467c-d637-45a1-cd77-88186e8c94b1"
      },
      "execution_count": null,
      "outputs": [
        {
          "output_type": "stream",
          "name": "stdout",
          "text": [
            "Original array  [ 0  1  2  3  4  5  6  7  8  9 10 11]\n",
            "\n",
            " Reshaped array  [[ 0  1  2  3]\n",
            " [ 4  5  6  7]\n",
            " [ 8  9 10 11]]\n",
            "\n",
            " Flattened array  [ 0  1  2  3  4  5  6  7  8  9 10 11]\n",
            "\n",
            " raveled array  [ 0  1  2  3  4  5  6  7  8  9 10 11]\n",
            "\n",
            " Transposed array  [[ 0  4  8]\n",
            " [ 1  5  9]\n",
            " [ 2  6 10]\n",
            " [ 3  7 11]]\n"
          ]
        }
      ]
    },
    {
      "cell_type": "markdown",
      "source": [
        "## **Numpy Array operations**"
      ],
      "metadata": {
        "id": "Df06wgpDtrha"
      }
    },
    {
      "cell_type": "code",
      "source": [
        "arr = np.array([1, 2, 3, 4, 5, 6, 7, 8, 9, 10])\n",
        "print(\"Basic Slicing\", arr[2:7])\n",
        "print(\"With Step\", arr[1:8:2])\n",
        "print(\"Negative indexing\", arr[-3])"
      ],
      "metadata": {
        "id": "m6xE68BwwyA8",
        "colab": {
          "base_uri": "https://localhost:8080/",
          "height": 0
        },
        "outputId": "b2e5478e-6f0b-44b8-d972-87e13ff92cbd"
      },
      "execution_count": 3,
      "outputs": [
        {
          "output_type": "stream",
          "name": "stdout",
          "text": [
            "Basic Slicing [3 4 5 6 7]\n",
            "With Step [2 4 6 8]\n",
            "Negative indexing 8\n"
          ]
        }
      ]
    },
    {
      "cell_type": "code",
      "source": [
        "arr_2d = np.array([[1, 2, 3],\n",
        "                   [4, 5, 6],\n",
        "                   [7, 8, 9]])\n",
        "print(\"Specific element\", arr_2d[1, 2])\n",
        "print(\"Entire row: \", arr_2d[1])\n",
        "print(\"Entire column: \", arr_2d[:, 1])"
      ],
      "metadata": {
        "colab": {
          "base_uri": "https://localhost:8080/",
          "height": 0
        },
        "id": "8i3V69Khw_Ov",
        "outputId": "8e238cd7-dbd9-425c-a8d5-6d9d6cc0f1ff"
      },
      "execution_count": 4,
      "outputs": [
        {
          "output_type": "stream",
          "name": "stdout",
          "text": [
            "Specific element 6\n",
            "Entire row:  [4 5 6]\n",
            "Entire column:  [2 5 8]\n"
          ]
        }
      ]
    },
    {
      "cell_type": "markdown",
      "source": [
        "## **Sorting**"
      ],
      "metadata": {
        "id": "FAjUaDETysXt"
      }
    },
    {
      "cell_type": "code",
      "source": [
        "unsorted = np.array([3, 1, 4, 1, 5, 9, 2, 6])\n",
        "print(\"Sorted Array\", np.sort(unsorted))\n",
        "\n",
        "arr_2d_unsorted = np.array([[3, 1], [1, 2], [2, 3]])\n",
        "print(\"Sorted 2D array by column\", np.sort(arr_2d_unsorted, axis=0))"
      ],
      "metadata": {
        "colab": {
          "base_uri": "https://localhost:8080/",
          "height": 0
        },
        "id": "E4f0viEYyvD0",
        "outputId": "ed39b2f7-8ed9-4043-a72d-9fa0304a504b"
      },
      "execution_count": 5,
      "outputs": [
        {
          "output_type": "stream",
          "name": "stdout",
          "text": [
            "Sorted Array [1 1 2 3 4 5 6 9]\n",
            "Sorted 2D array by column [[1 1]\n",
            " [2 2]\n",
            " [3 3]]\n"
          ]
        }
      ]
    },
    {
      "cell_type": "markdown",
      "source": [
        "In numpy we can write expressions inside [], bracket"
      ],
      "metadata": {
        "id": "ZQ8R97MQ1O0K"
      }
    },
    {
      "cell_type": "code",
      "source": [
        "a = np.array([[1, 2, 3, 4], [5, 6, 7, 8], [9, 10, 11, 12]])\n",
        "print(a.shape)\n",
        "print(a[a<7])\n",
        "\n",
        "c = a[(a > 2) & (a < 11)]     # satisfy two conditions using the & and | operators\n",
        "print(c)\n",
        "\n",
        "mask = a > 5\n",
        "print(\"Numbers greater than 5 : \", a[mask])"
      ],
      "metadata": {
        "colab": {
          "base_uri": "https://localhost:8080/",
          "height": 0
        },
        "id": "9uKtRXim0fQS",
        "outputId": "f3937e29-8de6-4d72-8643-4e96467bf351"
      },
      "execution_count": 10,
      "outputs": [
        {
          "output_type": "stream",
          "name": "stdout",
          "text": [
            "(3, 4)\n",
            "[1 2 3 4 5 6]\n",
            "[ 3  4  5  6  7  8  9 10]\n",
            "Numbers greater than 5 :  [ 6  7  8  9 10 11 12]\n"
          ]
        }
      ]
    },
    {
      "cell_type": "markdown",
      "source": [
        "## **Fancy indexing vs np.where()**"
      ],
      "metadata": {
        "id": "j5A7JFB6OV44"
      }
    },
    {
      "cell_type": "code",
      "source": [
        "numbers = np.array([1, 2, 3, 4, 5, 6, 7, 8, 9, 10])\n",
        "\n",
        "indices=[0,2,4]\n",
        "print(numbers[indices])       # We are storing multiple indices and getting all the o/ps\n",
        "\n",
        "where_result = np.where(numbers > 5)\n",
        "print(where_result)           # Gives indices\n",
        "print(numbers[where_result])"
      ],
      "metadata": {
        "colab": {
          "base_uri": "https://localhost:8080/",
          "height": 0
        },
        "id": "x70iy0AbOVoK",
        "outputId": "c8f0494e-1c6f-456e-97ac-25af7ab56f91"
      },
      "execution_count": 16,
      "outputs": [
        {
          "output_type": "stream",
          "name": "stdout",
          "text": [
            "[1 3 5]\n",
            "(array([5, 6, 7, 8, 9]),)\n",
            "[ 6  7  8  9 10]\n"
          ]
        }
      ]
    },
    {
      "cell_type": "code",
      "source": [
        "condition_array = np.where(numbers > 5, \"true\",  \"false\")\n",
        "print(condition_array)\n",
        "# Think this as -> number > 5 ? true : false, will run on individual\n",
        "\n",
        "condition_array = np.where(numbers > 5, numbers*4,  numbers)\n",
        "print(condition_array)"
      ],
      "metadata": {
        "colab": {
          "base_uri": "https://localhost:8080/",
          "height": 0
        },
        "id": "94wpUoLWTb8j",
        "outputId": "774c4443-7e4a-43cb-9880-d47f5ba2b72f"
      },
      "execution_count": 15,
      "outputs": [
        {
          "output_type": "stream",
          "name": "stdout",
          "text": [
            "['false' 'false' 'false' 'false' 'false' 'true' 'true' 'true' 'true'\n",
            " 'true']\n",
            "[ 1  2  3  4  5 24 28 32 36 40]\n"
          ]
        }
      ]
    },
    {
      "cell_type": "markdown",
      "source": [
        "Operation\tView or Copy?\n",
        "\n",
        "Basic Indexing (x[1])\t✅ View\n",
        "\n",
        "\n",
        "Slicing (x[:, 1:])\t✅ View\n",
        "\n",
        "\n",
        "Fancy Indexing (x[[1, 2]])\t❌ Copy\n",
        "\n",
        "\n",
        "Explicit Copy (x.copy())\t❌ Copy"
      ],
      "metadata": {
        "id": "QVbqCgLbQidZ"
      }
    },
    {
      "cell_type": "code",
      "source": [
        "import numpy as np\n",
        "\n",
        "# Create a 1D array\n",
        "x = np.arange(9)\n",
        "print(x)  # Output: [0 1 2 3 4 5 6 7 8]\n",
        "\n",
        "# Reshape it into a 3x3 matrix\n",
        "y = x.reshape(3, 3)\n",
        "print(y)\n",
        "# Output:\n",
        "# [[0 1 2]\n",
        "#  [3 4 5]\n",
        "#  [6 7 8]]\n",
        "\n",
        "# Check the base of the reshaped array\n",
        "print(y.base)  # Output: [0 1 2 3 4 5 6 7 8] (points to the original array `x`)\n",
        "print(np.shares_memory(x, y))  # True (view), False (copy)\n",
        "\n",
        "# Using advanced indexing to create a new array\n",
        "z = y[[2, 1]]\n",
        "print(z)\n",
        "# Output:\n",
        "# [[6 7 8]\n",
        "#  [3 4 5]]\n",
        "\n",
        "# Check if `z` is a view or a copy\n",
        "print(z.base is None)  # Output: True (because advanced indexing creates a copy)\n"
      ],
      "metadata": {
        "colab": {
          "base_uri": "https://localhost:8080/",
          "height": 0
        },
        "id": "M2GOlI1CS0bK",
        "outputId": "09ff8b05-d66f-46ce-9d78-076421379b09"
      },
      "execution_count": 17,
      "outputs": [
        {
          "output_type": "stream",
          "name": "stdout",
          "text": [
            "[0 1 2 3 4 5 6 7 8]\n",
            "[[0 1 2]\n",
            " [3 4 5]\n",
            " [6 7 8]]\n",
            "[0 1 2 3 4 5 6 7 8]\n",
            "True\n",
            "[[6 7 8]\n",
            " [3 4 5]]\n",
            "True\n"
          ]
        }
      ]
    },
    {
      "cell_type": "markdown",
      "source": [
        "## **View or Copy ?**"
      ],
      "metadata": {
        "id": "Kqy_fEVzUW8C"
      }
    },
    {
      "cell_type": "markdown",
      "source": [
        "## Check View and it does shares memory\n",
        "## **1. y.base**\n",
        "### If points to the original array `x` then it is view else not\n",
        "#### print(y.base)  \n",
        "Output: [0 1 2 3 4 5 6 7 8] (points to the original array x)\n",
        "\n",
        "## **2. np.shares_memory(x, y)**\n",
        "\n",
        "### True means view, False means copy\n",
        "#### print(np.shares_memory(x, y))  # Output: True (because `y` is a view of `x`)\n"
      ],
      "metadata": {
        "id": "bbXx1TvkU2OC"
      }
    },
    {
      "cell_type": "code",
      "source": [
        "import numpy as np\n",
        "x = np.arange(9)\n",
        "print('x : ', x)\n",
        "y = x.reshape(3, 3)\n",
        "print('\\ny : ', y)\n",
        "y.base  # .reshape() creates a view\n",
        "z = y[[2, 1]]\n",
        "print('\\nz : ', z)\n",
        "# advanced indexing creates a copy\n",
        "print('\\nbase : ',z.base)  # NONE : means copy\n",
        "print('shares_memory : ',np.shares_memory(y, z))  # False (copy)"
      ],
      "metadata": {
        "colab": {
          "base_uri": "https://localhost:8080/",
          "height": 0
        },
        "id": "dN0JoHIdXB4R",
        "outputId": "9d7d2973-a266-4a15-aea7-7f984ba98454"
      },
      "execution_count": 23,
      "outputs": [
        {
          "output_type": "stream",
          "name": "stdout",
          "text": [
            "x :  [0 1 2 3 4 5 6 7 8]\n",
            "\n",
            "y :  [[0 1 2]\n",
            " [3 4 5]\n",
            " [6 7 8]]\n",
            "\n",
            "z :  [[6 7 8]\n",
            " [3 4 5]]\n",
            "\n",
            "base :  None\n",
            "shares_memory :  False\n"
          ]
        }
      ]
    },
    {
      "cell_type": "code",
      "source": [
        "x = np.arange(6).reshape(2, 3)  # 2D array\n",
        "y = x.T.reshape(3, 2)  # Transpose first, then reshape\n",
        "\n",
        "y[0, 0] = 999  # Modify y\n",
        "\n",
        "print(x)  # x remains unchanged! , .reshape() creates a copy\n",
        "print(y)\n"
      ],
      "metadata": {
        "colab": {
          "base_uri": "https://localhost:8080/",
          "height": 0
        },
        "id": "8NMgcmm5Y0iK",
        "outputId": "9d602a4f-e20a-4d0f-959a-0b0296d9e874"
      },
      "execution_count": 24,
      "outputs": [
        {
          "output_type": "stream",
          "name": "stdout",
          "text": [
            "[[999   1   2]\n",
            " [  3   4   5]]\n",
            "[[999   3]\n",
            " [  1   4]\n",
            " [  2   5]]\n"
          ]
        }
      ]
    },
    {
      "cell_type": "markdown",
      "source": [
        "## **Adding and removing data**"
      ],
      "metadata": {
        "id": "gDjmevLBXCM6"
      }
    },
    {
      "cell_type": "code",
      "source": [
        "arr1 = np.array([1, 2, 3])\n",
        "arr2 = np.array([4, 5, 6])\n",
        "\n",
        "combined = np.concatenate((arr1, arr2))\n",
        "print(combined)"
      ],
      "metadata": {
        "colab": {
          "base_uri": "https://localhost:8080/",
          "height": 0
        },
        "id": "xTi8YkWVhuww",
        "outputId": "26147b88-2979-4ac4-c8e1-bb362ab590ce"
      },
      "execution_count": 27,
      "outputs": [
        {
          "output_type": "stream",
          "name": "stdout",
          "text": [
            "[1 2 3 4 5 6]\n"
          ]
        }
      ]
    },
    {
      "cell_type": "code",
      "source": [
        "x = np.array([[1, 2], [3, 4]])\n",
        "y = np.array([[5, 6]])\n",
        "combined = np.concatenate((x, y), axis=0) # axis=0 -> Concatenation along rows (i.e., adding more rows).\n",
        "print(combined)"
      ],
      "metadata": {
        "colab": {
          "base_uri": "https://localhost:8080/",
          "height": 0
        },
        "id": "HeP6zrGWiJkH",
        "outputId": "07870610-3ce8-4a5f-a0a3-759214f33521"
      },
      "execution_count": 28,
      "outputs": [
        {
          "output_type": "stream",
          "name": "stdout",
          "text": [
            "[[1 2]\n",
            " [3 4]\n",
            " [5 6]]\n"
          ]
        }
      ]
    },
    {
      "cell_type": "code",
      "source": [
        "a = np.array([1, 2, 3])\n",
        "b = np.array([4, 5, 6, 7])\n",
        "c = np.array([7, 8, 9])\n",
        "\n",
        "print(\"Compatibility shapes\", a.shape == b.shape)\n",
        "print(\"Compatibility shapes\", a.shape == c.shape)"
      ],
      "metadata": {
        "colab": {
          "base_uri": "https://localhost:8080/",
          "height": 0
        },
        "id": "deZJvVsmZvEi",
        "outputId": "02f0de12-bda1-4e89-e6ac-baf127d30df7"
      },
      "execution_count": 30,
      "outputs": [
        {
          "output_type": "stream",
          "name": "stdout",
          "text": [
            "Compatibility shapes False\n",
            "Compatibility shapes True\n"
          ]
        }
      ]
    },
    {
      "cell_type": "code",
      "source": [
        "original = np.array([[1, 2], [3, 4]])\n",
        "new_row = np.array([[5, 6]])\n",
        "\n",
        "with_new_row = np.vstack((original, new_row))  # adds new row -> vstack : vertical stack\n",
        "print(original)\n",
        "print('\\n',with_new_row)\n",
        "\n",
        "new_col = np.array([[7], [8]])\n",
        "with_new_col = np.hstack((original, new_col))  # adds new coln -> hstack : horizontal stack, hstack adds new coln\n",
        "print(\"\\nWith new column\", with_new_col)"
      ],
      "metadata": {
        "colab": {
          "base_uri": "https://localhost:8080/",
          "height": 0
        },
        "id": "LKoIyRXEjVmX",
        "outputId": "766ac679-1a51-4e0d-b72b-4dd521ecfea4"
      },
      "execution_count": 33,
      "outputs": [
        {
          "output_type": "stream",
          "name": "stdout",
          "text": [
            "[[1 2]\n",
            " [3 4]]\n",
            "\n",
            " [[1 2]\n",
            " [3 4]\n",
            " [5 6]]\n",
            "\n",
            "With new column [[1 2 7]\n",
            " [3 4 8]]\n"
          ]
        }
      ]
    },
    {
      "cell_type": "code",
      "source": [
        "arr = np.array([1, 2, 3, 4, 5])\n",
        "deleted = np.delete(arr, 2) # removes index at 2\n",
        "print(\"Array after deletion: \", deleted)"
      ],
      "metadata": {
        "colab": {
          "base_uri": "https://localhost:8080/",
          "height": 0
        },
        "id": "8-5SoZo3j7Vo",
        "outputId": "9c93c13d-3fa7-429f-fa7d-43a2eaa2e291"
      },
      "execution_count": 34,
      "outputs": [
        {
          "output_type": "stream",
          "name": "stdout",
          "text": [
            "Array after deletion:  [1 2 4 5]\n"
          ]
        }
      ]
    },
    {
      "cell_type": "markdown",
      "source": [
        "# Data Sets Manipulation"
      ],
      "metadata": {
        "id": "A84AMjUXcwP0"
      }
    },
    {
      "cell_type": "code",
      "source": [
        "import json\n",
        "# from google.colab import files\n",
        "\n",
        "# # This will prompt the file upload dialog\n",
        "# uploaded = files.upload()\n",
        "\n",
        "\n",
        "with open('house-price.json', 'r') as file:\n",
        "     data = json.load(file)\n",
        "\n",
        "for item in data:\n",
        "  print(item)\n"
      ],
      "metadata": {
        "id": "bOF4dNfec-Ly"
      },
      "execution_count": null,
      "outputs": []
    },
    {
      "cell_type": "code",
      "source": [],
      "metadata": {
        "id": "_w4iqNhLdBNZ"
      },
      "execution_count": null,
      "outputs": []
    }
  ]
}